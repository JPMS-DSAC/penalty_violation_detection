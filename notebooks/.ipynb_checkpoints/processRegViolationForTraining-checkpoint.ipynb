{
 "cells": [
  {
   "cell_type": "code",
   "execution_count": 17,
   "id": "63497008",
   "metadata": {},
   "outputs": [],
   "source": [
    "import json\n",
    "import pickle"
   ]
  },
  {
   "cell_type": "code",
   "execution_count": 18,
   "id": "f7d29f1c",
   "metadata": {},
   "outputs": [],
   "source": [
    "regs = json.load(open(\"../data/regViolated (2).json\"))"
   ]
  },
  {
   "cell_type": "code",
   "execution_count": 19,
   "id": "0375bfbd",
   "metadata": {},
   "outputs": [],
   "source": [
    "cleanRegs = {}\n",
    "for i in regs:\n",
    "    cleanReg = []\n",
    "    for j in regs[i]:\n",
    "        if j == 'disp':\n",
    "            continue\n",
    "        for k in regs[i][j]:\n",
    "            cleanReg.append(j+'_'+''.join([l for l in k if l != \" \"]))\n",
    "    cleanRegs[i] = cleanReg"
   ]
  },
  {
   "cell_type": "code",
   "execution_count": 20,
   "id": "04c4e7ea",
   "metadata": {},
   "outputs": [],
   "source": [
    "files = json.load(open(\"../data/files.json\"))"
   ]
  },
  {
   "cell_type": "code",
   "execution_count": 21,
   "id": "0a77002b",
   "metadata": {},
   "outputs": [],
   "source": [
    "data = json.load(open(\"../data/procFiles.json\"))"
   ]
  },
  {
   "cell_type": "code",
   "execution_count": 22,
   "id": "2d1b02c6",
   "metadata": {},
   "outputs": [],
   "source": [
    "penalty_data = []\n",
    "for i in range(len(data)):\n",
    "    x = []\n",
    "    for j in data[i][-1]:\n",
    "        if j[1] in [0,2,5,6]:\n",
    "            if len(j[0]) < 300:\n",
    "                x.append(j[0])\n",
    "    penalty_data.append(' '.join(x))"
   ]
  },
  {
   "cell_type": "code",
   "execution_count": 24,
   "id": "815b0c62",
   "metadata": {},
   "outputs": [],
   "source": [
    "file_data = {}\n",
    "for i in range(len(files)):\n",
    "    file_data[files[i]] = penalty_data[i]"
   ]
  },
  {
   "cell_type": "code",
   "execution_count": 30,
   "id": "4ec36441",
   "metadata": {},
   "outputs": [],
   "source": [
    "label_violations = []\n",
    "for i in regs:\n",
    "    if i in file_data:\n",
    "        label_violations.append([file_data[i],cleanRegs[i]])\n",
    "    else:\n",
    "        print(i)"
   ]
  },
  {
   "cell_type": "code",
   "execution_count": 31,
   "id": "c3f1a24b",
   "metadata": {},
   "outputs": [
    {
     "data": {
      "text/plain": [
       "6957"
      ]
     },
     "execution_count": 31,
     "metadata": {},
     "output_type": "execute_result"
    }
   ],
   "source": [
    "len(label_violations)"
   ]
  },
  {
   "cell_type": "code",
   "execution_count": 32,
   "id": "1d1f6222",
   "metadata": {},
   "outputs": [],
   "source": [
    "labelViolationsSet = set()\n",
    "for i in label_violations:\n",
    "    for j in i[1]:\n",
    "        labelViolationsSet.add(j)"
   ]
  },
  {
   "cell_type": "code",
   "execution_count": 35,
   "id": "2aa55153",
   "metadata": {},
   "outputs": [],
   "source": [
    "(labelViolationsSet) = sorted(list(labelViolationsSet))\n"
   ]
  },
  {
   "cell_type": "code",
   "execution_count": 41,
   "id": "e050cff9",
   "metadata": {},
   "outputs": [],
   "source": [
    "def getOneHotVector(reg):\n",
    "    indicesPresent = []\n",
    "    for i in reg:\n",
    "        indicesPresent.append(labelViolationsSet.index(i))\n",
    "    one_hot_vec = [0 for i in range(775)]\n",
    "    for i in indicesPresent:\n",
    "        one_hot_vec[i] = 1\n",
    "    return one_hot_vec"
   ]
  },
  {
   "cell_type": "code",
   "execution_count": 44,
   "id": "0caec02e",
   "metadata": {},
   "outputs": [],
   "source": [
    "sentence_labels = [[i[0],getOneHotVector(i[1])] for i in label_violations]"
   ]
  },
  {
   "cell_type": "code",
   "execution_count": 45,
   "id": "37c5c050",
   "metadata": {},
   "outputs": [],
   "source": [
    "with open('multi_class_sent_labels.json','w') as f:\n",
    "    json.dump(sentence_labels,f)"
   ]
  },
  {
   "cell_type": "code",
   "execution_count": null,
   "id": "e144b53c",
   "metadata": {},
   "outputs": [],
   "source": [
    "len(lab)"
   ]
  }
 ],
 "metadata": {
  "kernelspec": {
   "display_name": "Python 3 (ipykernel)",
   "language": "python",
   "name": "python3"
  },
  "language_info": {
   "codemirror_mode": {
    "name": "ipython",
    "version": 3
   },
   "file_extension": ".py",
   "mimetype": "text/x-python",
   "name": "python",
   "nbconvert_exporter": "python",
   "pygments_lexer": "ipython3",
   "version": "3.9.5"
  }
 },
 "nbformat": 4,
 "nbformat_minor": 5
}
