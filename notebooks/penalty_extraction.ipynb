{
 "cells": [
  {
   "cell_type": "code",
   "execution_count": 1,
   "id": "ab7de5d7",
   "metadata": {},
   "outputs": [],
   "source": [
    "import spacy \n",
    "nlp = spacy.load('en_core_web_lg')\n",
    "def convertToDollar(text):\n",
    "    \"\"\"\n",
    "    Convert Rs to USD as Spacy does not recognize Indian Currency that well\n",
    "    Input: Text\n",
    "    Output: Text where units of currency are converted from INR to $\n",
    "    \"\"\"\n",
    "    text = text.replace(\"Rs.\",\"$\")\n",
    "    text = text.replace(\"Rs\",\"$\")   \n",
    "    text = text.replace(\"Rupees\",\"$\")    \n",
    "    text = text.replace(\"Rupee\",\"$\")\n",
    "    text = text.replace(\"rupees\",\"$\")\n",
    "    text = text.replace(\"rupee\",\"$\")\n",
    "    text = text.replace(\"rs.\",\"$\")\n",
    "    text = text.replace(\"rs\",\"$\")\n",
    "    text = text.replace(\"₹\",\"$\")\n",
    "    return text \n",
    "\n",
    "\n",
    "def extractPenaltyAmount(text):\n",
    "    \"\"\"\n",
    "    Extract all the monetray information present in the casefile\n",
    "    Input: CaseFile Text (Preferably the penalty tagged text)\n",
    "    Output: List of penalty information\n",
    "    Output can contain numerals, words, currency units as well as associated punctuation and other non monetary numerals\n",
    "    suc\n",
    "    \"\"\"\n",
    "    text = convertToDollar(text)\n",
    "    doc = nlp(text)\n",
    "    money = []\n",
    "    qFlag = False\n",
    "    quantity = []\n",
    "    for i in doc:\n",
    "        if str(i) == \"penalty\":\n",
    "            qFlag = True\n",
    "        \n",
    "        if i.ent_type_ == \"QUANTITY\" or i.ent_type_ == \"CARDINAL\":\n",
    "            quantity.append(i)\n",
    "        \n",
    "            \n",
    "        if i.ent_type_ == \"MONEY\":\n",
    "            if qFlag:\n",
    "                if quantity:\n",
    "                    for j in quantity:\n",
    "                        money.append(j)\n",
    "                qFlag = False\n",
    "                quantity = []\n",
    "            if str(i) == '$':\n",
    "                continue\n",
    "            money.append(i)\n",
    "    return money\n",
    "\n",
    "def getCleanPenalty(text):\n",
    "    \"\"\"\n",
    "    Function to extract the penalty levied on a given case file \n",
    "    Input: CaseFile Text (Preferably the penalty tagged text)\n",
    "    Output:Penalty Amount\n",
    "    \"\"\"\n",
    "    penalty = extractPenaltyAmount(text)\n",
    "    penalty = [str(i) for i in penalty]\n",
    "    penalty = [''.join([i for i in j if i.isalnum()]) for j in penalty]\n",
    "    penalty_num = 0\n",
    "    penalty_index = 0\n",
    "    for j,i in enumerate(penalty):\n",
    "        if i.isnumeric():\n",
    "            penalty_num = i\n",
    "            penalty_index = j \n",
    "    if penalty_index < len(penalty) -1:\n",
    "        return penalty_num\n",
    "    return 0\n",
    "\n",
    "\n"
   ]
  },
  {
   "cell_type": "code",
   "execution_count": 3,
   "id": "2ed6562b",
   "metadata": {},
   "outputs": [],
   "source": [
    "import json\n",
    "data = json.load(open(\"./../data/procFiles.json\"))"
   ]
  },
  {
   "cell_type": "code",
   "execution_count": 17,
   "id": "2d1071bb",
   "metadata": {},
   "outputs": [],
   "source": [
    "def getPenaltyText(casefile):\n",
    "    penalty_text = []\n",
    "    for i in casefile[-1]:\n",
    "        if i[-1] == 9:\n",
    "            penalty_text.append(i[0])\n",
    "    return ' '.join(penalty_text)"
   ]
  },
  {
   "cell_type": "code",
   "execution_count": 19,
   "id": "effeb0ec",
   "metadata": {},
   "outputs": [
    {
     "name": "stderr",
     "output_type": "stream",
     "text": [
      "100%|█████████████████████████████████████████████████████████████████████| 7520/7520 [01:56<00:00, 64.33it/s]\n"
     ]
    }
   ],
   "source": [
    "penalty = []\n",
    "from tqdm import tqdm\n",
    "for i in tqdm(data):\n",
    "    penalty.append(getCleanPenalty(getPenaltyText(i)))"
   ]
  },
  {
   "cell_type": "code",
   "execution_count": 22,
   "id": "f4228649",
   "metadata": {},
   "outputs": [],
   "source": [
    "with open('../data/penalty.json','w') as f:\n",
    "    json.dump(penalty,f)"
   ]
  },
  {
   "cell_type": "code",
   "execution_count": null,
   "id": "d00959c9",
   "metadata": {},
   "outputs": [],
   "source": []
  },
  {
   "cell_type": "code",
   "execution_count": null,
   "id": "6339410f",
   "metadata": {},
   "outputs": [],
   "source": []
  }
 ],
 "metadata": {
  "kernelspec": {
   "display_name": "Python 3 (ipykernel)",
   "language": "python",
   "name": "python3"
  },
  "language_info": {
   "codemirror_mode": {
    "name": "ipython",
    "version": 3
   },
   "file_extension": ".py",
   "mimetype": "text/x-python",
   "name": "python",
   "nbconvert_exporter": "python",
   "pygments_lexer": "ipython3",
   "version": "3.7.0"
  }
 },
 "nbformat": 4,
 "nbformat_minor": 5
}
