{
 "cells": [
  {
   "cell_type": "code",
   "execution_count": 2,
   "id": "e5f42292",
   "metadata": {},
   "outputs": [],
   "source": [
    "import json"
   ]
  },
  {
   "cell_type": "code",
   "execution_count": 3,
   "id": "2d255144",
   "metadata": {},
   "outputs": [],
   "source": [
    "regs = json.load(open(\"../data/regViolated (2).json\"))"
   ]
  },
  {
   "cell_type": "code",
   "execution_count": 4,
   "id": "f034ca76",
   "metadata": {},
   "outputs": [],
   "source": [
    "cleanRegs = {}\n",
    "for i in regs:\n",
    "    cleanReg = []\n",
    "    for j in regs[i]:\n",
    "        if j == 'disp':\n",
    "            continue\n",
    "        for k in regs[i][j]:\n",
    "            cleanReg.append(j+'_'+''.join([l for l in k if l != \" \"]))\n",
    "    cleanRegs[i] = cleanReg"
   ]
  },
  {
   "cell_type": "code",
   "execution_count": 7,
   "id": "f9e079a6",
   "metadata": {},
   "outputs": [],
   "source": [
    "import pandas as pd\n",
    "from mlxtend.preprocessing import TransactionEncoder\n",
    "\n",
    "\n",
    "dataset = [cleanRegs[i] for i in cleanRegs]\n",
    "te = TransactionEncoder()\n",
    "te_ary = te.fit(dataset).transform(dataset)\n",
    "df = pd.DataFrame(te_ary, columns=te.columns_)"
   ]
  },
  {
   "cell_type": "code",
   "execution_count": 11,
   "id": "ca1e3564",
   "metadata": {},
   "outputs": [
    {
     "data": {
      "text/html": [
       "<div>\n",
       "<style scoped>\n",
       "    .dataframe tbody tr th:only-of-type {\n",
       "        vertical-align: middle;\n",
       "    }\n",
       "\n",
       "    .dataframe tbody tr th {\n",
       "        vertical-align: top;\n",
       "    }\n",
       "\n",
       "    .dataframe thead th {\n",
       "        text-align: right;\n",
       "    }\n",
       "</style>\n",
       "<table border=\"1\" class=\"dataframe\">\n",
       "  <thead>\n",
       "    <tr style=\"text-align: right;\">\n",
       "      <th></th>\n",
       "      <th>support</th>\n",
       "      <th>itemsets</th>\n",
       "    </tr>\n",
       "  </thead>\n",
       "  <tbody>\n",
       "    <tr>\n",
       "      <th>0</th>\n",
       "      <td>0.603277</td>\n",
       "      <td>(533)</td>\n",
       "    </tr>\n",
       "    <tr>\n",
       "      <th>1</th>\n",
       "      <td>0.414115</td>\n",
       "      <td>(529)</td>\n",
       "    </tr>\n",
       "  </tbody>\n",
       "</table>\n",
       "</div>"
      ],
      "text/plain": [
       "    support itemsets\n",
       "0  0.603277    (533)\n",
       "1  0.414115    (529)"
      ]
     },
     "execution_count": 11,
     "metadata": {},
     "output_type": "execute_result"
    }
   ],
   "source": [
    "from mlxtend.frequent_patterns import fpgrowth\n",
    "\n",
    "fpgrowth(df, min_support=0.4)"
   ]
  },
  {
   "cell_type": "code",
   "execution_count": 14,
   "id": "d0c1f7af",
   "metadata": {},
   "outputs": [
    {
     "data": {
      "text/html": [
       "<div>\n",
       "<style scoped>\n",
       "    .dataframe tbody tr th:only-of-type {\n",
       "        vertical-align: middle;\n",
       "    }\n",
       "\n",
       "    .dataframe tbody tr th {\n",
       "        vertical-align: top;\n",
       "    }\n",
       "\n",
       "    .dataframe thead th {\n",
       "        text-align: right;\n",
       "    }\n",
       "</style>\n",
       "<table border=\"1\" class=\"dataframe\">\n",
       "  <thead>\n",
       "    <tr style=\"text-align: right;\">\n",
       "      <th></th>\n",
       "      <th>support</th>\n",
       "      <th>itemsets</th>\n",
       "    </tr>\n",
       "  </thead>\n",
       "  <tbody>\n",
       "    <tr>\n",
       "      <th>0</th>\n",
       "      <td>0.603277</td>\n",
       "      <td>(sectionSEBI_15j)</td>\n",
       "    </tr>\n",
       "    <tr>\n",
       "      <th>1</th>\n",
       "      <td>0.414115</td>\n",
       "      <td>(sectionSEBI_15h)</td>\n",
       "    </tr>\n",
       "    <tr>\n",
       "      <th>2</th>\n",
       "      <td>0.250827</td>\n",
       "      <td>(sectionSEBI_15a)</td>\n",
       "    </tr>\n",
       "    <tr>\n",
       "      <th>3</th>\n",
       "      <td>0.119592</td>\n",
       "      <td>(sectionSEBI_15i)</td>\n",
       "    </tr>\n",
       "    <tr>\n",
       "      <th>4</th>\n",
       "      <td>0.394710</td>\n",
       "      <td>(sectionSEBI_15j, sectionSEBI_15h)</td>\n",
       "    </tr>\n",
       "    <tr>\n",
       "      <th>5</th>\n",
       "      <td>0.240908</td>\n",
       "      <td>(sectionSEBI_15j, sectionSEBI_15a)</td>\n",
       "    </tr>\n",
       "    <tr>\n",
       "      <th>6</th>\n",
       "      <td>0.113411</td>\n",
       "      <td>(sectionSEBI_15j, sectionSEBI_15i)</td>\n",
       "    </tr>\n",
       "  </tbody>\n",
       "</table>\n",
       "</div>"
      ],
      "text/plain": [
       "    support                            itemsets\n",
       "0  0.603277                   (sectionSEBI_15j)\n",
       "1  0.414115                   (sectionSEBI_15h)\n",
       "2  0.250827                   (sectionSEBI_15a)\n",
       "3  0.119592                   (sectionSEBI_15i)\n",
       "4  0.394710  (sectionSEBI_15j, sectionSEBI_15h)\n",
       "5  0.240908  (sectionSEBI_15j, sectionSEBI_15a)\n",
       "6  0.113411  (sectionSEBI_15j, sectionSEBI_15i)"
      ]
     },
     "execution_count": 14,
     "metadata": {},
     "output_type": "execute_result"
    }
   ],
   "source": [
    "fpgrowth(df, min_support=0.1, use_colnames=True)\n"
   ]
  },
  {
   "cell_type": "code",
   "execution_count": null,
   "id": "48fd055b",
   "metadata": {},
   "outputs": [],
   "source": []
  }
 ],
 "metadata": {
  "kernelspec": {
   "display_name": "Python 3 (ipykernel)",
   "language": "python",
   "name": "python3"
  },
  "language_info": {
   "codemirror_mode": {
    "name": "ipython",
    "version": 3
   },
   "file_extension": ".py",
   "mimetype": "text/x-python",
   "name": "python",
   "nbconvert_exporter": "python",
   "pygments_lexer": "ipython3",
   "version": "3.7.0"
  }
 },
 "nbformat": 4,
 "nbformat_minor": 5
}
