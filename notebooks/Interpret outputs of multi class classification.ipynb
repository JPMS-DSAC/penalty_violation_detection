{
 "cells": [
  {
   "cell_type": "code",
   "execution_count": 1,
   "id": "09799449",
   "metadata": {},
   "outputs": [],
   "source": [
    "import json\n"
   ]
  },
  {
   "cell_type": "code",
   "execution_count": 2,
   "id": "6d234b69",
   "metadata": {},
   "outputs": [],
   "source": [
    "regs = json.load(open(\"../data/regViolated (2).json\"))"
   ]
  },
  {
   "cell_type": "code",
   "execution_count": 3,
   "id": "86facf0a",
   "metadata": {},
   "outputs": [],
   "source": [
    "cleanRegs = {}\n",
    "for i in regs:\n",
    "    cleanReg = []\n",
    "    for j in regs[i]:\n",
    "        if j == 'disp':\n",
    "            continue\n",
    "        for k in regs[i][j]:\n",
    "            cleanReg.append(j+'_'+''.join([l for l in k if l != \" \"]))\n",
    "    cleanRegs[i] = cleanReg"
   ]
  },
  {
   "cell_type": "code",
   "execution_count": 4,
   "id": "03ab885c",
   "metadata": {},
   "outputs": [],
   "source": [
    "files = json.load(open(\"../data/files.json\"))"
   ]
  },
  {
   "cell_type": "code",
   "execution_count": 5,
   "id": "60743885",
   "metadata": {},
   "outputs": [],
   "source": [
    "data = json.load(open(\"../data/procFiles.json\"))"
   ]
  },
  {
   "cell_type": "code",
   "execution_count": 7,
   "id": "086dc13a",
   "metadata": {},
   "outputs": [],
   "source": [
    "wrong_preds = json.load(open(\"../output/wrong_preds.json\"))"
   ]
  },
  {
   "cell_type": "code",
   "execution_count": 9,
   "id": "ac3d033e",
   "metadata": {},
   "outputs": [],
   "source": [
    "penalty_data = []\n",
    "for i in range(len(data)):\n",
    "    x = []\n",
    "    for j in data[i][-1]:\n",
    "        if j[1] in [0,2,5,6]:\n",
    "            if len(j[0]) < 300:\n",
    "                x.append(j[0])\n",
    "    penalty_data.append(' '.join(x))"
   ]
  },
  {
   "cell_type": "code",
   "execution_count": 10,
   "id": "8f4feef4",
   "metadata": {},
   "outputs": [],
   "source": [
    "file_data = {}\n",
    "for i in range(len(files)):\n",
    "    file_data[files[i]] = penalty_data[i]"
   ]
  },
  {
   "cell_type": "code",
   "execution_count": 11,
   "id": "27f2fe31",
   "metadata": {},
   "outputs": [],
   "source": [
    "label_violations = []\n",
    "for i in regs:\n",
    "    if i in file_data:\n",
    "        label_violations.append([file_data[i],cleanRegs[i]])\n",
    "    else:\n",
    "        print(i)"
   ]
  },
  {
   "cell_type": "code",
   "execution_count": 12,
   "id": "38ab736b",
   "metadata": {},
   "outputs": [
    {
     "data": {
      "text/plain": [
       "6957"
      ]
     },
     "execution_count": 12,
     "metadata": {},
     "output_type": "execute_result"
    }
   ],
   "source": [
    "len(label_violations)"
   ]
  },
  {
   "cell_type": "code",
   "execution_count": 13,
   "id": "cff9f018",
   "metadata": {},
   "outputs": [],
   "source": [
    "labelViolationsSet = set()\n",
    "for i in label_violations:\n",
    "    for j in i[1]:\n",
    "        labelViolationsSet.add(j)"
   ]
  },
  {
   "cell_type": "code",
   "execution_count": 14,
   "id": "014ab17d",
   "metadata": {},
   "outputs": [],
   "source": [
    "(labelViolationsSet) = sorted(list(labelViolationsSet))\n"
   ]
  },
  {
   "cell_type": "code",
   "execution_count": 15,
   "id": "368b0d75",
   "metadata": {},
   "outputs": [],
   "source": [
    "def decode1HotVector(reg):\n",
    "    regs = []\n",
    "    for i in range(len(reg)):\n",
    "        if reg[i] == 1:\n",
    "            regs.append(labelViolationsSet[i])\n",
    "    return regs"
   ]
  },
  {
   "cell_type": "code",
   "execution_count": 18,
   "id": "39ff4c88",
   "metadata": {},
   "outputs": [
    {
     "data": {
      "text/plain": [
       "'On perusal of the monthly status report submitted by NSDL and CDSL vide their email dated January 15 2008 SEBI observed that M s Gleitlager India Limited hereinafter referred to as “GIL Noticee” had delayed dematerialization of securities. Despite having been given ample opportunities the Noticee had 6. In the instant case it is alleged that the Noticee had not complied with regulation 545 of DP Regulations. in The details of delay dematerialization of securities as on January 15 2008 are given below 10. Name of the depository NSDL CDSL No of Requests pending for more than thirty days 365 102 No of Shares involved 69400 26500 12.'"
      ]
     },
     "execution_count": 18,
     "metadata": {},
     "output_type": "execute_result"
    }
   ],
   "source": [
    "wrong_preds[0][1]"
   ]
  },
  {
   "cell_type": "code",
   "execution_count": 27,
   "id": "f839546d",
   "metadata": {},
   "outputs": [],
   "source": [
    "def getOneHotVector(reg):\n",
    "    indicesPresent = []\n",
    "    for i in reg:\n",
    "        indicesPresent.append(labelViolationsSet.index(i))\n",
    "    one_hot_vec = [0 for i in range(775)]\n",
    "    for i in indicesPresent:\n",
    "        one_hot_vec[i] = 1\n",
    "    return one_hot_vec"
   ]
  },
  {
   "cell_type": "code",
   "execution_count": 29,
   "id": "6ba4d0dc",
   "metadata": {},
   "outputs": [
    {
     "data": {
      "text/plain": [
       "'sectionSEBI_15j'"
      ]
     },
     "execution_count": 29,
     "metadata": {},
     "output_type": "execute_result"
    }
   ],
   "source": [
    "labelViolationsSet[533]"
   ]
  },
  {
   "cell_type": "code",
   "execution_count": 33,
   "id": "307ef847",
   "metadata": {},
   "outputs": [
    {
     "data": {
      "text/plain": [
       "1391"
      ]
     },
     "execution_count": 33,
     "metadata": {},
     "output_type": "execute_result"
    }
   ],
   "source": [
    "len(wrong_preds[0])"
   ]
  },
  {
   "cell_type": "code",
   "execution_count": 37,
   "id": "f36d42fe",
   "metadata": {},
   "outputs": [
    {
     "data": {
      "text/plain": [
       "0.2"
      ]
     },
     "execution_count": 37,
     "metadata": {},
     "output_type": "execute_result"
    }
   ],
   "source": [
    "1400/7000"
   ]
  },
  {
   "cell_type": "code",
   "execution_count": null,
   "id": "2cccb9ad",
   "metadata": {},
   "outputs": [],
   "source": []
  }
 ],
 "metadata": {
  "kernelspec": {
   "display_name": "Python 3 (ipykernel)",
   "language": "python",
   "name": "python3"
  },
  "language_info": {
   "codemirror_mode": {
    "name": "ipython",
    "version": 3
   },
   "file_extension": ".py",
   "mimetype": "text/x-python",
   "name": "python",
   "nbconvert_exporter": "python",
   "pygments_lexer": "ipython3",
   "version": "3.9.5"
  }
 },
 "nbformat": 4,
 "nbformat_minor": 5
}
