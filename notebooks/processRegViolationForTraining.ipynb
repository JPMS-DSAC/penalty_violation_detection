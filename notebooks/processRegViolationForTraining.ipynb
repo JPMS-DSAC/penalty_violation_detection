{
 "cells": [
  {
   "cell_type": "code",
   "execution_count": 1,
   "id": "63497008",
   "metadata": {},
   "outputs": [],
   "source": [
    "import json\n",
    "import pickle"
   ]
  },
  {
   "cell_type": "code",
   "execution_count": 2,
   "id": "f7d29f1c",
   "metadata": {},
   "outputs": [],
   "source": [
    "regs = json.load(open(\"../data/regViolated (2).json\"))"
   ]
  },
  {
   "cell_type": "code",
   "execution_count": 3,
   "id": "0375bfbd",
   "metadata": {},
   "outputs": [],
   "source": [
    "cleanRegs = {}\n",
    "for i in regs:\n",
    "    cleanReg = []\n",
    "    for j in regs[i]:\n",
    "        if j == 'disp':\n",
    "            continue\n",
    "        for k in regs[i][j]:\n",
    "            cleanReg.append(j+'_'+''.join([l for l in k if l != \" \"]))\n",
    "    cleanRegs[i] = cleanReg"
   ]
  },
  {
   "cell_type": "code",
   "execution_count": 4,
   "id": "04c4e7ea",
   "metadata": {},
   "outputs": [],
   "source": [
    "files = json.load(open(\"../data/files.json\"))"
   ]
  },
  {
   "cell_type": "code",
   "execution_count": 5,
   "id": "0a77002b",
   "metadata": {},
   "outputs": [],
   "source": [
    "data = json.load(open(\"../data/procFiles.json\"))"
   ]
  },
  {
   "cell_type": "code",
   "execution_count": 6,
   "id": "2d1b02c6",
   "metadata": {},
   "outputs": [],
   "source": [
    "penalty_data = []\n",
    "for i in range(len(data)):\n",
    "    x = []\n",
    "    for j in data[i][-1]:\n",
    "        if j[1] in [0,2,5,6]:\n",
    "            if len(j[0]) < 300:\n",
    "                x.append(j[0])\n",
    "    penalty_data.append(' '.join(x))"
   ]
  },
  {
   "cell_type": "code",
   "execution_count": 7,
   "id": "815b0c62",
   "metadata": {},
   "outputs": [],
   "source": [
    "file_data = {}\n",
    "for i in range(len(files)):\n",
    "    file_data[files[i]] = penalty_data[i]"
   ]
  },
  {
   "cell_type": "code",
   "execution_count": 8,
   "id": "4ec36441",
   "metadata": {},
   "outputs": [],
   "source": [
    "label_violations = []\n",
    "for i in regs:\n",
    "    if i in file_data:\n",
    "        label_violations.append([file_data[i],cleanRegs[i]])\n",
    "    else:\n",
    "        print(i)"
   ]
  },
  {
   "cell_type": "code",
   "execution_count": 9,
   "id": "c3f1a24b",
   "metadata": {},
   "outputs": [
    {
     "data": {
      "text/plain": [
       "6957"
      ]
     },
     "execution_count": 9,
     "metadata": {},
     "output_type": "execute_result"
    }
   ],
   "source": [
    "len(label_violations)"
   ]
  },
  {
   "cell_type": "code",
   "execution_count": 17,
   "id": "bc1eac65",
   "metadata": {},
   "outputs": [],
   "source": [
    "regs_violated = []\n",
    "for i in cleanRegs:\n",
    "    regs_violated += cleanRegs[i]\n",
    "from collections import Counter\n",
    "c = Counter(regs_violated)"
   ]
  },
  {
   "cell_type": "code",
   "execution_count": null,
   "id": "be244b99",
   "metadata": {},
   "outputs": [],
   "source": []
  },
  {
   "cell_type": "code",
   "execution_count": 32,
   "id": "1d1f6222",
   "metadata": {},
   "outputs": [],
   "source": [
    "\n",
    "labelViolationsSet = set()\n",
    "for i in label_violations:\n",
    "    for j in i[1]:\n",
    "        labelViolationsSet.add(j)"
   ]
  },
  {
   "cell_type": "code",
   "execution_count": 35,
   "id": "2aa55153",
   "metadata": {},
   "outputs": [],
   "source": [
    "(labelViolationsSet) = sorted(list(labelViolationsSet))\n"
   ]
  },
  {
   "cell_type": "code",
   "execution_count": 41,
   "id": "e050cff9",
   "metadata": {},
   "outputs": [],
   "source": [
    "def getOneHotVector(reg):\n",
    "    indicesPresent = []\n",
    "    for i in reg:\n",
    "        indicesPresent.append(labelViolationsSet.index(i))\n",
    "    one_hot_vec = [0 for i in range(775)]\n",
    "    for i in indicesPresent:\n",
    "        one_hot_vec[i] = 1\n",
    "    return one_hot_vec"
   ]
  },
  {
   "cell_type": "code",
   "execution_count": 44,
   "id": "0caec02e",
   "metadata": {},
   "outputs": [],
   "source": [
    "sentence_labels = [[i[0],getOneHotVector(i[1])] for i in label_violations]"
   ]
  },
  {
   "cell_type": "code",
   "execution_count": 45,
   "id": "37c5c050",
   "metadata": {},
   "outputs": [],
   "source": [
    "with open('multi_class_sent_labels.json','w') as f:\n",
    "    json.dump(sentence_labels,f)"
   ]
  },
  {
   "cell_type": "code",
   "execution_count": null,
   "id": "e144b53c",
   "metadata": {},
   "outputs": [],
   "source": [
    "len(lab)"
   ]
  },
  {
   "cell_type": "code",
   "execution_count": 20,
   "id": "f8b15fd2",
   "metadata": {},
   "outputs": [],
   "source": [
    "# Not all labels, labels with less than 50 occurences are marked as others "
   ]
  },
  {
   "cell_type": "code",
   "execution_count": 45,
   "id": "adcf7f31",
   "metadata": {},
   "outputs": [],
   "source": [
    "most_common_violations = c.most_common()"
   ]
  },
  {
   "cell_type": "code",
   "execution_count": 46,
   "id": "790ad0ae",
   "metadata": {},
   "outputs": [],
   "source": [
    "most_common_violations = [i[0] for i in most_common_violations]"
   ]
  },
  {
   "cell_type": "code",
   "execution_count": 33,
   "id": "b1821f43",
   "metadata": {},
   "outputs": [],
   "source": [
    "def getOneHotVector(reg):\n",
    "    indicesPresent = []\n",
    "    for i in reg:\n",
    "        if i in most_common_violations:\n",
    "            indicesPresent.append(most_common_violations.index(i))\n",
    "        else:\n",
    "            indicesPresent.append(49)\n",
    "    one_hot_vec = [0 for i in range(50)]\n",
    "    for i in indicesPresent:\n",
    "        one_hot_vec[i] = 1\n",
    "    return one_hot_vec"
   ]
  },
  {
   "cell_type": "code",
   "execution_count": 50,
   "id": "e8caac1e",
   "metadata": {},
   "outputs": [],
   "source": [
    "sentence_labels = [[i[0],getOneHotVector(i[1])] for i in label_violations]"
   ]
  },
  {
   "cell_type": "code",
   "execution_count": 51,
   "id": "21c37b62",
   "metadata": {
    "scrolled": true
   },
   "outputs": [
    {
     "name": "stdout",
     "output_type": "stream",
     "text": [
      "['AEEPB2546Q In the matter of Nissan Copper Limited BACKGROUND 1. Nissan Copper Limited hereinafter referred as “NCL” came out with an Initial Public Offer hereinafter referred to as “IPO” in a price band of Rs 33 to Rs 39 during the period of December 04 – 08 2006. The issue was oversubscribed 5.25 times and the issue price was finalized at Rs 39. The shares of NCL were listed on BSE and NSE on December 29 2006. The Subscription details of Nissan Copper Limited are as follows Issue Size Overall Subscription Ratio Retail Company Nissan Copper Limited 64.10 lakh shares HNI 20.23 times QIB 1.51 times 5.25 times 4.28 times 2. Securities and Exchange Board of India hereinafter referred to as “SEBI” conducted investigation in the scrip of NCL. It was observed from the list of retail allotees that 303 entities had the surname Bhansali. 17 allotees had the name Yogesh M Bhansali with the same PAN number and 16 allotees had the name Yogesh M Bhansali HUF with another PAN number. It was observed that these allotees applied in different name combinations to garner more number of shares under the retail category. Statement of Shri Yogesh Bhansali was recorded on May 14 2007. He appeared on behalf of 19 entities of his family who had applied in the IPO of the company. It was observed from the statement of Shri Yogesh Bhansali that Yogesh Bhansali Group had applied 304 applications on behalf of 19 applicants. On the basis of aforesaid it has been alleged that the noticee has violated Regulation 3a and 3c of the SEBI Prohibition of Fraudulent and Unfair Trade Practices Relating to Securities Market Regulations 2003. The said segment was oversubscribed by 4.3 times. The noticee mentioned two PAN. It is also noted that noticee had applied for a value of more than Rs 100000 . It is further noted that the noticee has admitted that he has applied for shares for a value more than Rs 100000  through multiple applications. It is noted that each application was for value less than Rs 1 lakh per application to fit in the retail category. It is further noted that to avoid weeding out the noticee used various combinations of names and addresses as discussed in paragraph 13. It is noted that the noticee has made a profit of Rs 155659.4 Rs One Lakh Fifty Five Thousand Six Hundred Fifty Nine and Forty Paisa only.', [1, 0, 0, 0, 0, 0, 0, 0, 0, 0, 0, 0, 0, 0, 0, 0, 0, 0, 0, 0, 0, 0, 0, 0, 0, 0, 0, 0, 0, 0, 0, 0, 0, 0, 0, 0, 0, 0, 0, 0, 0, 0, 0, 0, 0, 0, 0, 0, 0, 0]]\n"
     ]
    }
   ],
   "source": [
    "for i in sentence_labels:\n",
    "    if i[1][0] == 1:\n",
    "        print(i)\n",
    "        break"
   ]
  },
  {
   "cell_type": "code",
   "execution_count": 52,
   "id": "d3bca45a",
   "metadata": {},
   "outputs": [],
   "source": [
    "with open('multi_class_sent_labels_others.json','w') as f:\n",
    "    json.dump(sentence_labels,f)"
   ]
  },
  {
   "cell_type": "code",
   "execution_count": 49,
   "id": "0d61ea19",
   "metadata": {},
   "outputs": [],
   "source": [
    "most_common_violations = most_common_violations[:49]"
   ]
  },
  {
   "cell_type": "code",
   "execution_count": null,
   "id": "bb785295",
   "metadata": {},
   "outputs": [],
   "source": []
  }
 ],
 "metadata": {
  "kernelspec": {
   "display_name": "Python 3 (ipykernel)",
   "language": "python",
   "name": "python3"
  },
  "language_info": {
   "codemirror_mode": {
    "name": "ipython",
    "version": 3
   },
   "file_extension": ".py",
   "mimetype": "text/x-python",
   "name": "python",
   "nbconvert_exporter": "python",
   "pygments_lexer": "ipython3",
   "version": "3.9.5"
  }
 },
 "nbformat": 4,
 "nbformat_minor": 5
}
