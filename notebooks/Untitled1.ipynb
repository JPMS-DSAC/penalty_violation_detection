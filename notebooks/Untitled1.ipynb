{
 "cells": [
  {
   "cell_type": "code",
   "execution_count": 1,
   "id": "157ef975",
   "metadata": {},
   "outputs": [],
   "source": [
    "import pickle\n",
    "import pandas as pd\n",
    "from simpletransformers.classification import (\n",
    "MultiLabelClassificationModel, MultiLabelClassificationArgs\n",
    ")\n",
    "import pandas as pd\n",
    "import logging\n",
    "import random\n",
    "\n",
    "import json"
   ]
  },
  {
   "cell_type": "code",
   "execution_count": 3,
   "id": "863a9b0f",
   "metadata": {},
   "outputs": [
    {
     "name": "stdout",
     "output_type": "stream",
     "text": [
      "50\n"
     ]
    }
   ],
   "source": [
    "logging.basicConfig(level=logging.INFO)\n",
    "transformers_logger = logging.getLogger(\"transformers\")\n",
    "transformers_logger.setLevel(logging.WARNING)\n",
    "\n",
    "data = json.load(open('../output/multi_class_sent_labels_others.json'))\n",
    "random.shuffle(data)\n",
    "\n",
    "tdata,vdata,edata = data[:4174],data[4174:5565],data[5565:]\n",
    "\n",
    "train_df = pd.DataFrame(tdata)\n",
    "train_df.columns = [\"text\", \"labels\"]\n",
    "\n",
    "print(len(list(train_df['labels'])[0]))"
   ]
  },
  {
   "cell_type": "code",
   "execution_count": 4,
   "id": "f21ef3c1",
   "metadata": {},
   "outputs": [],
   "source": [
    "model = MultiLabelClassificationModel(\n",
    "\"bert\", \"../models/multi_class_model/\", num_labels=50,\n",
    ")\n"
   ]
  },
  {
   "cell_type": "code",
   "execution_count": 6,
   "id": "414fb392",
   "metadata": {},
   "outputs": [],
   "source": [
    "eval_df = pd.DataFrame(vdata)\n",
    "eval_df.columns = [\"text\", \"labels\"]\n"
   ]
  },
  {
   "cell_type": "code",
   "execution_count": 31,
   "id": "0569b6b8",
   "metadata": {},
   "outputs": [],
   "source": [
    "label_sents = [[] for i in range(50)]\n",
    "for i in vdata:\n",
    "    for j in range(len(i[1])):\n",
    "        if i[1][j]:\n",
    "            label_sents[j].append(i[0])\n",
    "            \n",
    "label_ids =  [[] for i in range(50)]\n",
    "c = 0\n",
    "for i in vdata:\n",
    "    for j in range(len(i[1])):\n",
    "        if i[1][j]:\n",
    "            label_ids.append(c)\n",
    "    c +=1\n",
    "        "
   ]
  },
  {
   "cell_type": "code",
   "execution_count": 34,
   "id": "0c957520",
   "metadata": {},
   "outputs": [],
   "source": [
    "from sklearn.metrics import precision_recall_fscore_support\n",
    "import numpy as np \n",
    "from sklearn.metrics import f1_score\n"
   ]
  },
  {
   "cell_type": "code",
   "execution_count": 17,
   "id": "dfcea758",
   "metadata": {},
   "outputs": [],
   "source": [
    "import pickle\n",
    "results  = pickle.load(open(\"/home/badwolf/results.pkl\",'rb'))"
   ]
  },
  {
   "cell_type": "code",
   "execution_count": 25,
   "id": "e5d0f01c",
   "metadata": {},
   "outputs": [],
   "source": [
    "result_ids = [[] for i in range(50)]\n",
    "c= 0\n",
    "for i in results:\n",
    "    for j in range(50):\n",
    "        if i[j] > 0.5:\n",
    "            result_ids[j].append(c)\n",
    "    c +=1"
   ]
  },
  {
   "cell_type": "code",
   "execution_count": 37,
   "id": "59772563",
   "metadata": {},
   "outputs": [
    {
     "name": "stderr",
     "output_type": "stream",
     "text": [
      "/home/badwolf/miniconda3/envs/dl/lib/python3.7/site-packages/sklearn/metrics/_classification.py:1248: UndefinedMetricWarning: Recall and F-score are ill-defined and being set to 0.0 in labels with no true samples. Use `zero_division` parameter to control this behavior.\n",
      "  _warn_prf(average, modifier, msg_start, len(result))\n",
      "/home/badwolf/miniconda3/envs/dl/lib/python3.7/site-packages/sklearn/metrics/_classification.py:1248: UndefinedMetricWarning: Recall and F-score are ill-defined and being set to 0.0 in labels with no true samples. Use `zero_division` parameter to control this behavior.\n",
      "  _warn_prf(average, modifier, msg_start, len(result))\n",
      "/home/badwolf/miniconda3/envs/dl/lib/python3.7/site-packages/sklearn/metrics/_classification.py:1248: UndefinedMetricWarning: Recall and F-score are ill-defined and being set to 0.0 in labels with no true samples. Use `zero_division` parameter to control this behavior.\n",
      "  _warn_prf(average, modifier, msg_start, len(result))\n",
      "/home/badwolf/miniconda3/envs/dl/lib/python3.7/site-packages/sklearn/metrics/_classification.py:1248: UndefinedMetricWarning: Recall and F-score are ill-defined and being set to 0.0 in labels with no true samples. Use `zero_division` parameter to control this behavior.\n",
      "  _warn_prf(average, modifier, msg_start, len(result))\n",
      "/home/badwolf/miniconda3/envs/dl/lib/python3.7/site-packages/sklearn/metrics/_classification.py:1248: UndefinedMetricWarning: Recall and F-score are ill-defined and being set to 0.0 in labels with no true samples. Use `zero_division` parameter to control this behavior.\n",
      "  _warn_prf(average, modifier, msg_start, len(result))\n",
      "/home/badwolf/miniconda3/envs/dl/lib/python3.7/site-packages/sklearn/metrics/_classification.py:1248: UndefinedMetricWarning: Recall and F-score are ill-defined and being set to 0.0 in labels with no true samples. Use `zero_division` parameter to control this behavior.\n",
      "  _warn_prf(average, modifier, msg_start, len(result))\n",
      "/home/badwolf/miniconda3/envs/dl/lib/python3.7/site-packages/sklearn/metrics/_classification.py:1248: UndefinedMetricWarning: Recall and F-score are ill-defined and being set to 0.0 in labels with no true samples. Use `zero_division` parameter to control this behavior.\n",
      "  _warn_prf(average, modifier, msg_start, len(result))\n",
      "/home/badwolf/miniconda3/envs/dl/lib/python3.7/site-packages/sklearn/metrics/_classification.py:1248: UndefinedMetricWarning: Recall and F-score are ill-defined and being set to 0.0 in labels with no true samples. Use `zero_division` parameter to control this behavior.\n",
      "  _warn_prf(average, modifier, msg_start, len(result))\n"
     ]
    },
    {
     "name": "stdout",
     "output_type": "stream",
     "text": [
      "0 (0.5, 0.10891445003594537) 0.17886658795749705\n",
      "1 (0.5, 0.3324946081955428) 0.39939550949913644\n",
      "2 (0.5, 0.43350107836089147) 0.46438197920677704\n",
      "3 (1.0, 1.0) 1.0\n",
      "4 (0.5, 0.4856218547807333) 0.49270605397520056\n",
      "5 (0.5, 0.4953271028037383) 0.49765258215962443\n",
      "6 (1.0, 1.0) 1.0\n",
      "7 (0.5, 0.49676491732566497) 0.4983772087991345\n",
      "8 (1.0, 1.0) 1.0\n",
      "9 (0.5, 0.49784327821711) 0.49891930835734866\n",
      "10 (0.5, 0.49928109273903665) 0.49964028776978414\n",
      "11 (1.0, 1.0) 1.0\n",
      "12 (1.0, 1.0) 1.0\n",
      "13 (1.0, 1.0) 1.0\n",
      "14 (1.0, 1.0) 1.0\n",
      "15 (1.0, 1.0) 1.0\n",
      "16 (1.0, 1.0) 1.0\n",
      "17 (1.0, 1.0) 1.0\n",
      "18 (1.0, 1.0) 1.0\n",
      "19 (1.0, 1.0) 1.0\n",
      "20 (1.0, 1.0) 1.0\n",
      "21 (1.0, 1.0) 1.0\n",
      "22 (1.0, 1.0) 1.0\n",
      "23 (1.0, 1.0) 1.0\n",
      "24 (1.0, 1.0) 1.0\n",
      "25 (1.0, 1.0) 1.0\n",
      "26 (1.0, 1.0) 1.0\n",
      "27 (1.0, 1.0) 1.0\n",
      "28 (1.0, 1.0) 1.0\n",
      "29 (1.0, 1.0) 1.0\n",
      "30 (1.0, 1.0) 1.0\n",
      "31 (1.0, 1.0) 1.0\n",
      "32 (1.0, 1.0) 1.0\n",
      "33 (1.0, 1.0) 1.0\n",
      "34 (1.0, 1.0) 1.0\n",
      "35 (1.0, 1.0) 1.0\n",
      "36 (1.0, 1.0) 1.0\n",
      "37 (1.0, 1.0) 1.0\n",
      "38 (1.0, 1.0) 1.0\n",
      "39 (1.0, 1.0) 1.0\n",
      "40 (1.0, 1.0) 1.0\n",
      "41 (1.0, 1.0) 1.0\n",
      "42 (1.0, 1.0) 1.0\n",
      "43 (1.0, 1.0) 1.0\n",
      "44 (1.0, 1.0) 1.0\n",
      "45 (1.0, 1.0) 1.0\n",
      "46 (1.0, 1.0) 1.0\n",
      "47 (1.0, 1.0) 1.0\n",
      "48 (1.0, 1.0) 1.0\n",
      "49 (0.5, 0.4802300503235083) 0.48991565823248995\n"
     ]
    },
    {
     "name": "stderr",
     "output_type": "stream",
     "text": [
      "/home/badwolf/miniconda3/envs/dl/lib/python3.7/site-packages/sklearn/metrics/_classification.py:1248: UndefinedMetricWarning: Recall and F-score are ill-defined and being set to 0.0 in labels with no true samples. Use `zero_division` parameter to control this behavior.\n",
      "  _warn_prf(average, modifier, msg_start, len(result))\n"
     ]
    }
   ],
   "source": [
    "for i in range(50):\n",
    "    true_arr = [ 0 for x in range(len(results))]\n",
    "    pred_arr = [ 0 for x in range(len(results))]\n",
    "    for j in result_ids[i]:\n",
    "        pred_arr[j] = 1\n",
    "    for j in label_ids[i]:\n",
    "        true_arr[j] = 1\n",
    "    print(i,precision_recall_fscore_support(true_arr, pred_arr, average='macro')[0:2],f1_score(true_arr, pred_arr, average='macro'))\n"
   ]
  },
  {
   "cell_type": "markdown",
   "id": "a1330167",
   "metadata": {},
   "source": [
    "| LabelID | Precison | Recall               | F1 Score            |\n",
    "|---------|----------|----------------------|---------------------|\n",
    "| 0       | 0.5    | 0.10891445003594537 | 0.17886658795749705 |\n",
    "| 1       | 0.5    | 0.3324946081955428  | 0.39939550949913644 |\n",
    "| 2       | 0.5    | 0.43350107836089147 | 0.46438197920677704 |\n",
    "| 3       | 1.0    | 1.0                 | 1.0                 |\n",
    "| 4       | 0.5    | 0.4856218547807333  | 0.49270605397520056 |\n",
    "| 5       | 0.5    | 0.4953271028037383  | 0.49765258215962443 |\n",
    "| 6       | 1.0    | 1.0                 | 1.0                 |\n",
    "| 7       | 0.5    | 0.49676491732566497 | 0.4983772087991345  |\n",
    "| 8       | 1.0    | 1.0                 | 1.0                 |\n",
    "| 9       | 0.5    | 0.49784327821711    | 0.49891930835734866 |\n",
    "| 10      | 0.5    | 0.49928109273903665 | 0.49964028776978414 |\n",
    "| 11      | 1.0    | 1.0                 | 1.0                 |\n",
    "| 12      | 1.0    | 1.0                 | 1.0                 |\n",
    "| 13      | 1.0    | 1.0                 | 1.0                 |\n",
    "| 14      | 1.0    | 1.0                 | 1.0                 |\n",
    "| 15      | 1.0    | 1.0                 | 1.0                 |\n",
    "| 16      | 1.0    | 1.0                 | 1.0                 |\n",
    "| 17      | 1.0    | 1.0                 | 1.0                 |\n",
    "| 18      | 1.0    | 1.0                 | 1.0                 |\n",
    "| 19      | 1.0    | 1.0                 | 1.0                 |\n",
    "| 20      | 1.0    | 1.0                 | 1.0                 |\n",
    "| 21      | 1.0    | 1.0                 | 1.0                 |\n",
    "| 22      | 1.0    | 1.0                 | 1.0                 |\n",
    "| 23      | 1.0    | 1.0                 | 1.0                 |\n",
    "| 24      | 1.0    | 1.0                 | 1.0                 |\n",
    "| 25      | 1.0    | 1.0                 | 1.0                 |\n",
    "| 26      | 1.0    | 1.0                 | 1.0                 |\n",
    "| 27      | 1.0    | 1.0                 | 1.0                 |\n",
    "| 28      | 1.0    | 1.0                 | 1.0                 |\n",
    "| 29      | 1.0    | 1.0                 | 1.0                 |\n",
    "| 30      | 1.0    | 1.0                 | 1.0                 |\n",
    "| 31      | 1.0    | 1.0                 | 1.0                 |\n",
    "| 32      | 1.0    | 1.0                 | 1.0                 |\n",
    "| 33      | 1.0    | 1.0                 | 1.0                 |\n",
    "| 34      | 1.0    | 1.0                 | 1.0                 |\n",
    "| 35      | 1.0    | 1.0                 | 1.0                 |\n",
    "| 36      | 1.0    | 1.0                 | 1.0                 |\n",
    "| 37      | 1.0    | 1.0                 | 1.0                 |\n",
    "| 38      | 1.0    | 1.0                 | 1.0                 |\n",
    "| 39      | 1.0    | 1.0                 | 1.0                 |\n",
    "| 40      | 1.0    | 1.0                 | 1.0                 |\n",
    "| 41      | 1.0    | 1.0                 | 1.0                 |\n",
    "| 42      | 1.0    | 1.0                 | 1.0                 |\n",
    "| 43      | 1.0    | 1.0                 | 1.0                 |\n",
    "| 44      | 1.0    | 1.0                 | 1.0                 |\n",
    "| 45      | 1.0    | 1.0                 | 1.0                 |\n",
    "| 46      | 1.0    | 1.0                 | 1.0                 |\n",
    "| 47      | 1.0    | 1.0                 | 1.0                 |\n",
    "| 48      | 1.0    | 1.0                 | 1.0                 |\n",
    "| 49      | 0.5    | 0.4802300503235083  | 0.48991565823248995 |"
   ]
  },
  {
   "cell_type": "code",
   "execution_count": null,
   "id": "3a81e335",
   "metadata": {},
   "outputs": [],
   "source": []
  }
 ],
 "metadata": {
  "kernelspec": {
   "display_name": "Python 3 (ipykernel)",
   "language": "python",
   "name": "python3"
  },
  "language_info": {
   "codemirror_mode": {
    "name": "ipython",
    "version": 3
   },
   "file_extension": ".py",
   "mimetype": "text/x-python",
   "name": "python",
   "nbconvert_exporter": "python",
   "pygments_lexer": "ipython3",
   "version": "3.7.0"
  }
 },
 "nbformat": 4,
 "nbformat_minor": 5
}
